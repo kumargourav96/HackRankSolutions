{
 "cells": [
  {
   "cell_type": "code",
   "execution_count": 25,
   "metadata": {},
   "outputs": [],
   "source": [
    "# Complete the matchingStrings function below.\n",
    "def matchingStrings(strings, queries):\n",
    "    i_counter_list = []\n",
    "    for i in range(0, len(queries)):\n",
    "        i_counter = 0\n",
    "        for j in range(0,len(strings)):\n",
    "            if (queries[i] == strings[j]):\n",
    "                i_counter = i_counter+1\n",
    "        i_counter_list.append(i_counter)\n",
    "        \n",
    "    return i_counter_list"
   ]
  },
  {
   "cell_type": "code",
   "execution_count": 26,
   "metadata": {},
   "outputs": [
    {
     "name": "stdout",
     "output_type": "stream",
     "text": [
      "3\n",
      "a\n",
      "b\n",
      "c\n",
      "string is :  ['a', 'b', 'c']\n",
      "3\n",
      "a\n",
      "b\n",
      "f\n",
      "queries is :  ['a', 'b', 'f']\n",
      "[1, 1, 0]\n"
     ]
    }
   ],
   "source": [
    "#!/bin/python3\n",
    "\n",
    "import math\n",
    "import os\n",
    "import random\n",
    "import re\n",
    "import sys\n",
    "\n",
    "if __name__ == '__main__':\n",
    "#     fptr = open(os.environ['OUTPUT_PATH'], 'w')\n",
    "\n",
    "    strings_count = int(input())\n",
    "\n",
    "    strings = []\n",
    "\n",
    "    for _ in range(strings_count):\n",
    "        strings_item = input()\n",
    "        strings.append(strings_item)\n",
    "    print(\"string is : \", strings )\n",
    "    queries_count = int(input())\n",
    "\n",
    "    queries = []\n",
    "\n",
    "    for _ in range(queries_count):\n",
    "        queries_item = input()\n",
    "        queries.append(queries_item)\n",
    "    print(\"queries is : \",queries)\n",
    "    res = matchingStrings(strings, queries)\n",
    "\n",
    "#     fptr.write('\\n'.join(map(str, res)))\n",
    "#     fptr.write('\\n')\n",
    "\n",
    "#     fptr.close()\n",
    "    print(res)"
   ]
  },
  {
   "cell_type": "code",
   "execution_count": 12,
   "metadata": {},
   "outputs": [
    {
     "name": "stdout",
     "output_type": "stream",
     "text": [
      "0\n",
      "1\n",
      "2\n"
     ]
    }
   ],
   "source": [
    "\n",
    "3\n",
    "def\n",
    "dg\n",
    "fgh\n",
    "string is :  ['def', 'dg', 'fgh']\n",
    "3\n",
    "de\n",
    "lmn\n",
    "fgh\n",
    "queries is :  ['de', 'lmn', 'fgh']\n",
    "[1, 1, 0, 1]"
   ]
  },
  {
   "cell_type": "code",
   "execution_count": null,
   "metadata": {},
   "outputs": [],
   "source": []
  }
 ],
 "metadata": {
  "kernelspec": {
   "display_name": "Python 3",
   "language": "python",
   "name": "python3"
  },
  "language_info": {
   "codemirror_mode": {
    "name": "ipython",
    "version": 3
   },
   "file_extension": ".py",
   "mimetype": "text/x-python",
   "name": "python",
   "nbconvert_exporter": "python",
   "pygments_lexer": "ipython3",
   "version": "3.7.3"
  }
 },
 "nbformat": 4,
 "nbformat_minor": 2
}
