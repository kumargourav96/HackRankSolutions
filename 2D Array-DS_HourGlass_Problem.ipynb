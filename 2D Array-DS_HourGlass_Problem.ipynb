{
 "cells": [
  {
   "cell_type": "raw",
   "metadata": {},
   "source": [
    "# 2D Array - DS Given a  2 D A rr a y  :\n",
    "# HourGlass Problem\n",
    "\n",
    "Given a 6*6 matrix:\n",
    "1 1 1 0 0 0\n",
    "0 1 0 0 0 0\n",
    "1 1 1 0 0 0\n",
    "0 0 0 0 0 0\n",
    "0 0 0 0 0 0\n",
    "0 0 0 0 0 0\n",
    "\n",
    "We define an hourglass in  to be a subset of values with indices falling in this pattern in 's graphical representation:\n",
    "a b c  \n",
    "  d \n",
    "e f g\n",
    "\n",
    "There are  hourglasses in given above , and an hourglass sum is the sum of an hourglass' values. \n",
    "\n",
    "Calculate the hourglass sum for every hourglass in , then print the maximum hourglass sum. \n",
    "\n",
    "For example, given the 2D array:\n",
    "-9 -9 -9  1 1 1 \n",
    " 0 -9  0  4 3 2\n",
    "-9 -9 -9  1 2 3\n",
    " 0  0  8  6 6 0\n",
    " 0  0  0 -2 0 0\n",
    " 0  0  1  2 4 0\n",
    "\n",
    "We calculate the following  hourglass values:\n",
    "-63, -34, -9, 12, \n",
    "-10, 0, 28, 23, \n",
    "-27, -11, -2, 10, \n",
    "9, 17, 25, 18\n",
    "\n",
    "Our highest hourglass value is 28  from the hourglass:\n",
    "0 4 3\n",
    "  1\n",
    "8 6 6\n",
    "\n",
    "Constraints:\n",
    "-9 <= arr[i][j]] <= 9\n",
    "0 < i,j <5\n",
    "\n",
    "Output Format Print the largest (maximum) hourglass sum found in  arr. \n",
    "Sample Input\n",
    "1 1 1 0 0 0\n",
    "0 1 0 0 0 0\n",
    "1 1 1 0 0 0\n",
    "0 0 2 4 4 0\n",
    "0 0 0 2 0 0\n",
    "0 0 1 2 4 0\n",
    "\n",
    "Sample Output\n",
    "19\n",
    "\n",
    "\n",
    "The hourglass with the maximum sum is:\n",
    "2 4 4  \n",
    "  2 \n",
    "1 2 4"
   ]
  },
  {
   "cell_type": "code",
   "execution_count": 14,
   "metadata": {},
   "outputs": [],
   "source": [
    "arr = [[1, 1, 1, 0, 0, 0],\n",
    "[0, 1, 0, 0, 0, 0],\n",
    "[1, 1, 1, 0, 0, 0],\n",
    "[0, 0, 2, 4, 4, 0],\n",
    "[0, 0, 0, 2, 0, 0],\n",
    "[0, 0, 1, 2, 4, 0]]"
   ]
  },
  {
   "cell_type": "code",
   "execution_count": 15,
   "metadata": {},
   "outputs": [],
   "source": [
    "arr2 =[[-1, -1, 0, -9, -2, -2],\n",
    "[-2, -1, -6, -8, -2, -5],\n",
    "[-1, -1, -1, -2, -3, -4],\n",
    "[-1, -9, -2, -4, -4, -5],\n",
    "[-7, -3, -3, -2, -9, -9],\n",
    "[-1, -3, -1, -2, -4, -5]]"
   ]
  },
  {
   "cell_type": "code",
   "execution_count": 16,
   "metadata": {},
   "outputs": [
    {
     "data": {
      "text/plain": [
       "[[-1, -1, 0, -9, -2, -2],\n",
       " [-2, -1, -6, -8, -2, -5],\n",
       " [-1, -1, -1, -2, -3, -4],\n",
       " [-1, -9, -2, -4, -4, -5],\n",
       " [-7, -3, -3, -2, -9, -9],\n",
       " [-1, -3, -1, -2, -4, -5]]"
      ]
     },
     "execution_count": 16,
     "metadata": {},
     "output_type": "execute_result"
    }
   ],
   "source": [
    "arr2"
   ]
  },
  {
   "cell_type": "code",
   "execution_count": 5,
   "metadata": {},
   "outputs": [
    {
     "data": {
      "text/plain": [
       "[[1, 1, 1, 0, 0, 0],\n",
       " [0, 1, 0, 0, 0, 0],\n",
       " [1, 1, 1, 0, 0, 0],\n",
       " [0, 0, 2, 4, 4, 0],\n",
       " [0, 0, 0, 2, 0, 0],\n",
       " [0, 0, 1, 2, 4, 0]]"
      ]
     },
     "execution_count": 5,
     "metadata": {},
     "output_type": "execute_result"
    }
   ],
   "source": [
    "arr"
   ]
  },
  {
   "cell_type": "code",
   "execution_count": 32,
   "metadata": {},
   "outputs": [],
   "source": [
    "def hourglassSum(arr):\n",
    "    rows = len(arr)\n",
    "    cols = len(arr[0])\n",
    "    # print(rows, cols)\n",
    "    hour_glass_sum_final = -63 # if all the values in the hourglass is -9 (min value in constraint) the Hourglass sum is 7*-9 = -63\n",
    "    if (rows<3 | cols <3):\n",
    "        return -1\n",
    "    else:\n",
    "        for i in range(1,(rows -1)):\n",
    "            for j in range(1, (cols - 1)):\n",
    "                hour_glass_sum = arr[i-1][j-1] + arr[i-1][j] + arr[i-1][j+1] + arr[i][j] + arr[i+1][j-1] + arr[i+1][j] + arr[i+1][j+1]\n",
    "#                 print(\"at\",i,j,\"the sum is \",hour_glass_sum)\n",
    "                hour_glass_sum_final = max(hour_glass_sum_final,hour_glass_sum)\n",
    "                j= j+1\n",
    "            i = i+1\n",
    "    return hour_glass_sum_final"
   ]
  },
  {
   "cell_type": "code",
   "execution_count": 33,
   "metadata": {},
   "outputs": [
    {
     "name": "stdout",
     "output_type": "stream",
     "text": [
      "maximum hourglass sum is 19\n"
     ]
    }
   ],
   "source": [
    "print(\"maximum hourglass sum is {}\".format(hourglassSum(arr)))"
   ]
  },
  {
   "cell_type": "code",
   "execution_count": null,
   "metadata": {},
   "outputs": [],
   "source": []
  }
 ],
 "metadata": {
  "kernelspec": {
   "display_name": "Python 3",
   "language": "python",
   "name": "python3"
  },
  "language_info": {
   "codemirror_mode": {
    "name": "ipython",
    "version": 3
   },
   "file_extension": ".py",
   "mimetype": "text/x-python",
   "name": "python",
   "nbconvert_exporter": "python",
   "pygments_lexer": "ipython3",
   "version": "3.7.3"
  }
 },
 "nbformat": 4,
 "nbformat_minor": 2
}
