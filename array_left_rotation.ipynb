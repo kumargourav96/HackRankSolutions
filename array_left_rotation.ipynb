{
 "cells": [
  {
   "cell_type": "raw",
   "metadata": {},
   "source": [
    "A left rotation operation on an array of size  shifts each of the array's elements  unit to the left. \n",
    "For example, if  left rotations are performed on array , then the array would become .\n",
    "\n",
    "Given an array of  integers and a number, , perform  left rotations on the array. \n",
    "Then print the updated array as a single line of space-separated integers.\n",
    "\n",
    "Input Format\n",
    "\n",
    "The first line contains two space-separated integers denoting the respective values of  (the number of integers) and  \n",
    "    (the number of left rotations you must perform).\n",
    "The second line contains  space-separated integers describing the respective elements of the array's initial state.\n",
    "\n",
    "Sample Input\n",
    "5 4\n",
    "1 2 3 4 5\n",
    "\n",
    "Sample Output\n",
    "5 1 2 3 4\n"
   ]
  },
  {
   "cell_type": "code",
   "execution_count": null,
   "metadata": {},
   "outputs": [],
   "source": []
  },
  {
   "cell_type": "code",
   "execution_count": 3,
   "metadata": {},
   "outputs": [
    {
     "name": "stdout",
     "output_type": "stream",
     "text": [
      "5 4\n",
      "1 2 3 4 5\n",
      "5 1 2 3 4\n"
     ]
    }
   ],
   "source": [
    "import math\n",
    "import os\n",
    "import random\n",
    "import re\n",
    "import sys\n",
    "\n",
    "\n",
    "\n",
    "if __name__ == '__main__':\n",
    "    nd = input().split()\n",
    "\n",
    "    n = int(nd[0])\n",
    "\n",
    "    d = int(nd[1])\n",
    "\n",
    "    a = list(map(int, input().rstrip().split()))\n",
    "\n",
    "    a = a[(n+d)%n : ] + a[:(n+d)%n]\n",
    "    \n",
    "    print(*a)"
   ]
  },
  {
   "cell_type": "code",
   "execution_count": null,
   "metadata": {},
   "outputs": [],
   "source": []
  }
 ],
 "metadata": {
  "kernelspec": {
   "display_name": "Python 3",
   "language": "python",
   "name": "python3"
  },
  "language_info": {
   "codemirror_mode": {
    "name": "ipython",
    "version": 3
   },
   "file_extension": ".py",
   "mimetype": "text/x-python",
   "name": "python",
   "nbconvert_exporter": "python",
   "pygments_lexer": "ipython3",
   "version": "3.7.3"
  }
 },
 "nbformat": 4,
 "nbformat_minor": 2
}
